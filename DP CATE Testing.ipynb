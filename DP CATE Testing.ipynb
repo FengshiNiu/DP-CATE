{
 "cells": [
  {
   "cell_type": "code",
   "execution_count": 6,
   "metadata": {
    "ExecuteTime": {
     "end_time": "2021-07-15T16:19:08.446138Z",
     "start_time": "2021-07-15T16:19:08.435574Z"
    }
   },
   "outputs": [],
   "source": [
    "import numpy as np\n",
    "import scipy\n",
    "from CATE_utils import data_generator, regressor, clf, generate_EBM_CATE_learners, generate_CATE_learners, run_and_report_mse"
   ]
  },
  {
   "cell_type": "code",
   "execution_count": 56,
   "metadata": {
    "ExecuteTime": {
     "end_time": "2021-07-15T16:40:42.084857Z",
     "start_time": "2021-07-15T16:40:39.758537Z"
    }
   },
   "outputs": [],
   "source": [
    "n = 10000\n",
    "d = 4\n",
    "covariates_model = lambda d: np.random.binomial(1, .5, size=d)\n",
    "propensity_model = lambda x: scipy.special.expit(x[0])\n",
    "control_outcome_model = lambda x: x[0] + (x[0] + 1)*np.random.normal(0, 1, size=1)\n",
    "treatment_effect_model = lambda x: -1 + 2 * x[0]\n",
    "special_test_point = np.array([[1, 0, 0, 0], [0, 0, 0, 0]])\n",
    "special_test_value = np.array([1, -1])\n",
    "\n",
    "\n",
    "data1 = data_generator(n=n, \n",
    "                      d=d, \n",
    "                      covariates_model=covariates_model,\n",
    "                      propensity_model=propensity_model,\n",
    "                      control_outcome_model=control_outcome_model,\n",
    "                      treatment_effect_model=treatment_effect_model,\n",
    "                      special_test_point=special_test_point,\n",
    "                      special_test_value=special_test_value,\n",
    "                      seed = 1234\n",
    "                      )"
   ]
  },
  {
   "cell_type": "code",
   "execution_count": 57,
   "metadata": {
    "ExecuteTime": {
     "end_time": "2021-07-15T16:40:42.443656Z",
     "start_time": "2021-07-15T16:40:42.426918Z"
    }
   },
   "outputs": [],
   "source": [
    "data = data1\n",
    "X = data['X']\n",
    "T = data['T']\n",
    "y = data['Y']\n",
    "X_test = data['X_test']\n",
    "treatment_effect_test = data['treatment_effect_test']\n",
    "y_test = data['Y_test']\n",
    "\n",
    "P = data['P']\n",
    "Y0 = data['Y0']\n",
    "Y1 = data['Y1']\n",
    "treatment_effect = data['treatment_effect']\n",
    "special_test_point, special_test_value = data['special_test']"
   ]
  },
  {
   "cell_type": "markdown",
   "metadata": {},
   "source": [
    "# T-Learner"
   ]
  },
  {
   "cell_type": "code",
   "execution_count": 70,
   "metadata": {
    "ExecuteTime": {
     "end_time": "2021-07-15T16:59:35.337443Z",
     "start_time": "2021-07-15T16:59:34.797117Z"
    }
   },
   "outputs": [
    {
     "data": {
      "text/plain": [
       "LGBMRegressor()"
      ]
     },
     "execution_count": 70,
     "metadata": {},
     "output_type": "execute_result"
    },
    {
     "data": {
      "text/plain": [
       "LGBMRegressor()"
      ]
     },
     "execution_count": 70,
     "metadata": {},
     "output_type": "execute_result"
    }
   ],
   "source": [
    "from interpret.glassbox import DPExplainableBoostingClassifier, DPExplainableBoostingRegressor\n",
    "from interpret.glassbox import ExplainableBoostingClassifier, ExplainableBoostingRegressor\n",
    "from lightgbm import LGBMRegressor\n",
    "\n",
    "epsilon = 4\n",
    "delta = 1e-5\n",
    "\n",
    "treatment_model = LGBMRegressor()\n",
    "treatment_model.fit(X[T == 1], y[T == 1])\n",
    "\n",
    "control_model = LGBMRegressor()\n",
    "control_model.fit(X[T == 0], y[T == 0])\n",
    "\n",
    "# treatment_model = DPExplainableBoostingRegressor(epsilon=epsilon, delta=delta, outer_bags=1, validation_size=0)\n",
    "# treatment_model.fit(X[T == 1], y[T == 1])\n",
    "\n",
    "# control_model = DPExplainableBoostingRegressor(epsilon=epsilon, delta=delta, outer_bags=1, validation_size=0)\n",
    "# control_model.fit(X[T == 0], y[T == 0])"
   ]
  },
  {
   "cell_type": "code",
   "execution_count": 71,
   "metadata": {
    "ExecuteTime": {
     "end_time": "2021-07-15T16:59:35.979964Z",
     "start_time": "2021-07-15T16:59:35.507300Z"
    }
   },
   "outputs": [
    {
     "data": {
      "image/png": "[encoded data removed]",
      "text/latex": [
       "$\\displaystyle 0.091492121854846$"
      ],
      "text/plain": [
       "0.09149212185484604"
      ]
     },
     "execution_count": 71,
     "metadata": {},
     "output_type": "execute_result"
    }
   ],
   "source": [
    "from sklearn.metrics import mean_absolute_error\n",
    "\n",
    "mean_absolute_error(treatment_effect, treatment_model.predict(X) - control_model.predict(X))"
   ]
  },
  {
   "cell_type": "markdown",
   "metadata": {},
   "source": [
    "# Doubly Robust Learner"
   ]
  },
  {
   "cell_type": "code",
   "execution_count": 78,
   "metadata": {
    "ExecuteTime": {
     "end_time": "2021-07-15T17:08:28.413683Z",
     "start_time": "2021-07-15T17:08:28.391665Z"
    }
   },
   "outputs": [],
   "source": [
    "# data splitting\n",
    "\n",
    "from sklearn.model_selection import train_test_split\n",
    "\n",
    "X1, X2, T1, T2, y1, y2 = train_test_split(X, T, y, test_size=0.5, random_state=42)\n",
    "X11, X12, T11, T12, y11, y12 = train_test_split(X1, T1, y1, test_size=0.5, random_state=42)"
   ]
  },
  {
   "cell_type": "code",
   "execution_count": 79,
   "metadata": {
    "ExecuteTime": {
     "end_time": "2021-07-15T17:08:37.958361Z",
     "start_time": "2021-07-15T17:08:29.383472Z"
    }
   },
   "outputs": [
    {
     "name": "stderr",
     "output_type": "stream",
     "text": [
      "Possible privacy violation: assuming min/max values per feature/target are public info.Pass a privacy schema with known public ranges to avoid this warning.\n"
     ]
    },
    {
     "data": {
      "text/plain": [
       "DPExplainableBoostingClassifier(epsilon=4,\n",
       "                                feature_names=['feature_0001', 'feature_0002',\n",
       "                                               'feature_0003', 'feature_0004'],\n",
       "                                feature_types=['categorical', 'categorical',\n",
       "                                               'categorical', 'categorical'],\n",
       "                                outer_bags=1,\n",
       "                                privacy_schema={0: (0, 1), 1: (0, 1), 2: (0, 1),\n",
       "                                                3: (0, 1), 'target': (0, 1)},\n",
       "                                validation_size=0)"
      ]
     },
     "execution_count": 79,
     "metadata": {},
     "output_type": "execute_result"
    },
    {
     "data": {
      "text/plain": [
       "DPExplainableBoostingRegressor(epsilon=4,\n",
       "                               feature_names=['feature_0001', 'feature_0002',\n",
       "                                              'feature_0003', 'feature_0004'],\n",
       "                               feature_types=['categorical', 'categorical',\n",
       "                                              'categorical', 'categorical'],\n",
       "                               outer_bags=1,\n",
       "                               privacy_schema={0: (0, 1), 1: (0, 1), 2: (0, 1),\n",
       "                                               3: (0, 1),\n",
       "                                               'target': (-4.0384670875703375,\n",
       "                                                          7.954568064647068)},\n",
       "                               validation_size=0)"
      ]
     },
     "execution_count": 79,
     "metadata": {},
     "output_type": "execute_result"
    },
    {
     "data": {
      "text/plain": [
       "DPExplainableBoostingRegressor(epsilon=4,\n",
       "                               feature_names=['feature_0001', 'feature_0002',\n",
       "                                              'feature_0003', 'feature_0004'],\n",
       "                               feature_types=['categorical', 'categorical',\n",
       "                                              'categorical', 'categorical'],\n",
       "                               outer_bags=1,\n",
       "                               privacy_schema={0: (0, 1), 1: (0, 1), 2: (0, 1),\n",
       "                                               3: (0, 1),\n",
       "                                               'target': (-3.875713300709113,\n",
       "                                                          7.965690841101843)},\n",
       "                               validation_size=0)"
      ]
     },
     "execution_count": 79,
     "metadata": {},
     "output_type": "execute_result"
    }
   ],
   "source": [
    "epsilon = 4\n",
    "delta = 1e-5\n",
    "\n",
    "prop_model = DPExplainableBoostingClassifier(epsilon=epsilon, delta=delta, outer_bags=1, validation_size=0)\n",
    "prop_model.fit(X11, T11)\n",
    "\n",
    "treatment_model = DPExplainableBoostingRegressor(epsilon=epsilon, delta=delta, outer_bags=1, validation_size=0)\n",
    "treatment_model.fit(X12[T12 == 1], y12[T12 == 1])\n",
    "\n",
    "control_model = DPExplainableBoostingRegressor(epsilon=epsilon, delta=delta, outer_bags=1, validation_size=0)\n",
    "control_model.fit(X12[T12 == 0], y12[T12 == 0])"
   ]
  },
  {
   "cell_type": "code",
   "execution_count": 80,
   "metadata": {
    "ExecuteTime": {
     "end_time": "2021-07-15T17:08:47.341404Z",
     "start_time": "2021-07-15T17:08:43.144510Z"
    }
   },
   "outputs": [
    {
     "data": {
      "text/plain": [
       "DPExplainableBoostingRegressor(epsilon=4,\n",
       "                               feature_names=['feature_0001', 'feature_0002',\n",
       "                                              'feature_0003', 'feature_0004'],\n",
       "                               feature_types=['categorical', 'categorical',\n",
       "                                              'categorical', 'categorical'],\n",
       "                               outer_bags=1,\n",
       "                               privacy_schema={0: (0, 1), 1: (0, 1), 2: (0, 1),\n",
       "                                               3: (0, 1),\n",
       "                                               'target': (-10.188471306893566,\n",
       "                                                          10.763838859789738)},\n",
       "                               validation_size=0)"
      ]
     },
     "execution_count": 80,
     "metadata": {},
     "output_type": "execute_result"
    }
   ],
   "source": [
    "# Build CATE model\n",
    "\n",
    "y_treatment_dr = treatment_model.predict(X2) + (y2 - treatment_model.predict(X2)) / (prop_model.predict_proba(X2)[:, 1]) * T2\n",
    "y_control_dr = control_model.predict(X2) + (y2 - control_model.predict(X2)) / (prop_model.predict_proba(X2)[:, 1]) * (1 - T2)\n",
    "\n",
    "phi_dr = y_treatment_dr - y_control_dr\n",
    "\n",
    "cate_model = DPExplainableBoostingRegressor(epsilon=epsilon, delta=delta, outer_bags=1, validation_size=0)\n",
    "cate_model.fit(X2, phi_dr)"
   ]
  },
  {
   "cell_type": "code",
   "execution_count": 81,
   "metadata": {
    "ExecuteTime": {
     "end_time": "2021-07-15T17:08:49.350019Z",
     "start_time": "2021-07-15T17:08:48.851683Z"
    }
   },
   "outputs": [
    {
     "data": {
      "image/png": "[encoded data removed]",
      "text/latex": [
       "$\\displaystyle 0.0457335649589889$"
      ],
      "text/plain": [
       "0.04573356495898888"
      ]
     },
     "execution_count": 81,
     "metadata": {},
     "output_type": "execute_result"
    }
   ],
   "source": [
    "from sklearn.metrics import mean_absolute_error\n",
    "\n",
    "mean_absolute_error(treatment_effect, cate_model.predict(X))"
   ]
  },
  {
   "cell_type": "markdown",
   "metadata": {},
   "source": [
    "## Doubly Robust Linear Model"
   ]
  },
  {
   "cell_type": "code",
   "execution_count": 82,
   "metadata": {
    "ExecuteTime": {
     "end_time": "2021-07-15T17:09:09.222454Z",
     "start_time": "2021-07-15T17:09:08.713496Z"
    }
   },
   "outputs": [
    {
     "name": "stderr",
     "output_type": "stream",
     "text": [
      "Data norm has not been specified and will be calculated on the data provided.  This will result in additional privacy leakage. To ensure differential privacy and no additional privacy leakage, specify `data_norm` at initialisation.\n"
     ]
    },
    {
     "data": {
      "text/plain": [
       "LogisticRegression(accountant=BudgetAccountant(spent_budget=[(4, 0), (4, 0), (4, 0), (4, 0)]),\n",
       "                   data_norm=2.0, epsilon=4)"
      ]
     },
     "execution_count": 82,
     "metadata": {},
     "output_type": "execute_result"
    },
    {
     "name": "stderr",
     "output_type": "stream",
     "text": [
      "Bounds parameters haven't been specified, so falling back to determining bounds from the data.\n",
      "This will result in additional privacy leakage. To ensure differential privacy with no additional privacy loss, specify `bounds_X` and `bounds_y`.\n"
     ]
    },
    {
     "data": {
      "text/plain": [
       "LinearRegression(accountant=BudgetAccountant(spent_budget=[(4, 0), (4, 0), (4, 0), (4, 0), (4, 0)]),\n",
       "                 bounds_X=(array([0., 0., 0., 0.]), array([1., 1., 1., 1.])),\n",
       "                 bounds_y=(array([-4.03846709]), array([7.95456806])),\n",
       "                 epsilon=4)"
      ]
     },
     "execution_count": 82,
     "metadata": {},
     "output_type": "execute_result"
    },
    {
     "name": "stderr",
     "output_type": "stream",
     "text": [
      "Bounds parameters haven't been specified, so falling back to determining bounds from the data.\n",
      "This will result in additional privacy leakage. To ensure differential privacy with no additional privacy loss, specify `bounds_X` and `bounds_y`.\n"
     ]
    },
    {
     "data": {
      "text/plain": [
       "LinearRegression(accountant=BudgetAccountant(spent_budget=[(4, 0), (4, 0), (4, 0), (4, 0), (4, 0), ...]),\n",
       "                 bounds_X=(array([0., 0., 0., 0.]), array([1., 1., 1., 1.])),\n",
       "                 bounds_y=(array([-3.8757133]), array([7.96569084])),\n",
       "                 epsilon=4)"
      ]
     },
     "execution_count": 82,
     "metadata": {},
     "output_type": "execute_result"
    }
   ],
   "source": [
    "from diffprivlib.models import LogisticRegression, LinearRegression\n",
    "\n",
    "epsilon = 4\n",
    "delta = 1e-5\n",
    "\n",
    "prop_model = LogisticRegression(epsilon=epsilon)\n",
    "prop_model.fit(X11, T11)\n",
    "\n",
    "treatment_model = LinearRegression(epsilon=epsilon)\n",
    "treatment_model.fit(X12[T12 == 1], y12[T12 == 1])\n",
    "\n",
    "control_model = LinearRegression(epsilon=epsilon)\n",
    "control_model.fit(X12[T12 == 0], y12[T12 == 0])"
   ]
  },
  {
   "cell_type": "code",
   "execution_count": 84,
   "metadata": {
    "ExecuteTime": {
     "end_time": "2021-07-15T17:09:44.216417Z",
     "start_time": "2021-07-15T17:09:44.044390Z"
    }
   },
   "outputs": [
    {
     "name": "stderr",
     "output_type": "stream",
     "text": [
      "Bounds parameters haven't been specified, so falling back to determining bounds from the data.\n",
      "This will result in additional privacy leakage. To ensure differential privacy with no additional privacy loss, specify `bounds_X` and `bounds_y`.\n"
     ]
    },
    {
     "data": {
      "text/plain": [
       "LinearRegression(accountant=BudgetAccountant(spent_budget=[(4, 0), (4, 0), (4, 0), (4, 0), (4, 0), ...]),\n",
       "                 bounds_X=(array([0., 0., 0., 0.]), array([1., 1., 1., 1.])),\n",
       "                 bounds_y=(array([-9.13065457]), array([9.62811118])),\n",
       "                 epsilon=4)"
      ]
     },
     "execution_count": 84,
     "metadata": {},
     "output_type": "execute_result"
    }
   ],
   "source": [
    "# Build CATE model\n",
    "\n",
    "y_treatment_dr = treatment_model.predict(X2) + (y2 - treatment_model.predict(X2)) / (prop_model.predict_proba(X2)[:, 1]) * T2\n",
    "y_control_dr = control_model.predict(X2) + (y2 - control_model.predict(X2)) / (prop_model.predict_proba(X2)[:, 1]) * (1 - T2)\n",
    "\n",
    "phi_dr = y_treatment_dr - y_control_dr\n",
    "\n",
    "cate_model = LinearRegression(epsilon=epsilon)\n",
    "cate_model.fit(X2, phi_dr)"
   ]
  },
  {
   "cell_type": "code",
   "execution_count": 85,
   "metadata": {
    "ExecuteTime": {
     "end_time": "2021-07-15T17:09:55.172215Z",
     "start_time": "2021-07-15T17:09:54.724860Z"
    }
   },
   "outputs": [
    {
     "data": {
      "image/png": "[encoded data removed]",
      "text/latex": [
       "$\\displaystyle 0.0731489924362872$"
      ],
      "text/plain": [
       "0.0731489924362872"
      ]
     },
     "execution_count": 85,
     "metadata": {},
     "output_type": "execute_result"
    }
   ],
   "source": [
    "from sklearn.metrics import mean_absolute_error\n",
    "\n",
    "mean_absolute_error(treatment_effect, cate_model.predict(X))"
   ]
  },
  {
   "cell_type": "code",
   "execution_count": null,
   "metadata": {},
   "outputs": [],
   "source": []
  }
 ],
 "metadata": {
  "kernelspec": {
   "display_name": "Python [conda env:interpret-dev] *",
   "language": "python",
   "name": "conda-env-interpret-dev-py"
  },
  "language_info": {
   "codemirror_mode": {
    "name": "ipython",
    "version": 3
   },
   "file_extension": ".py",
   "mimetype": "text/x-python",
   "name": "python",
   "nbconvert_exporter": "python",
   "pygments_lexer": "ipython3",
   "version": "3.7.7"
  }
 },
 "nbformat": 4,
 "nbformat_minor": 4
}
