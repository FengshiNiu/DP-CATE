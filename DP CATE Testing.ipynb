{
 "cells": [
  {
   "cell_type": "code",
<<<<<<< HEAD
   "execution_count": 233,
=======
   "execution_count": 4,
>>>>>>> a42be7729ed1f877b494e48bdeea599c0d772e40
   "metadata": {
    "ExecuteTime": {
     "end_time": "2021-07-19T14:48:59.956904Z",
     "start_time": "2021-07-19T14:48:59.950784Z"
    }
   },
   "outputs": [],
   "source": [
    "import numpy as np\n",
    "import scipy\n",
    "from CATE_utils import data_generator, regressor, clf, generate_EBM_CATE_learners, generate_CATE_learners, run_and_report_mse\n",
    "from interpret import show"
   ]
  },
  {
   "cell_type": "code",
<<<<<<< HEAD
   "execution_count": null,
   "metadata": {},
   "outputs": [],
   "source": [
    "from sklearn import clone\n",
    "from sklearn.model_selection import train_test_split\n",
    "\n",
    "class TLearner():\n",
    "    def __init__(self, models):\n",
    "        self.models = clone(models, safe=True)\n",
    "    \n",
    "    def fit(self, y, T, X):\n",
    "        self.treatment_model = clone(self.models, safe=True)\n",
    "        self.control_model = clone(self.models, safe=True)\n",
    "        self.treatment_model.fit(X[T == 1], y[T == 1])\n",
    "        self.control_model.fit(X[T == 0], y[T == 0])\n",
    "    \n",
    "    def cate_pred(self, X):\n",
    "        return self.treatment_model.predict(X) - self.control_model.predict(X)\n",
    "    \n",
    "    def ate(self, X):\n",
    "        return self.cate_pred(X).mean()\n",
    "\n",
    "class DRlearner():\n",
    "    def __init__(self, \n",
    "                 model_propensity, \n",
    "                 model_outcome, \n",
    "                 model_cate, \n",
    "                 clip=lambda x: x, \n",
    "                 seed=123):\n",
    "        self.model_propensity = clone(model_propensity, safe=True)\n",
    "        self.model_treatment = clone(model_outcome, safe=True)\n",
    "        self.model_control = clone(model_control, safe=True)\n",
    "        self.model_cate = clone(model_cate, safe=True)\n",
    "        self.clip = clip\n",
    "    \n",
    "    def fit(self, y, T, X, sample_ratio_2nd_stage=0.5, sample_ratio_propensity=0.25):\n",
    "        # data splitting\n",
    "        X1, X2, T1, T2, y1, y2, P1, P2 = train_test_split(X, T, y, P, \n",
    "                                                          test_size=sample_ratio_2nd_stage, \n",
    "                                                          stratify=T,\n",
    "                                                          random_state=seed)\n",
    "        X11, X12, T11, T12, y11, y12 = train_test_split(X1, T1, y1, \n",
    "                        test_size=(1-sample_ratio_propensity)/(1-sample_ratio_2nd_stage), \n",
    "                        stratify=T1,\n",
    "                        random_state=seed)\n",
    "        self.model_propensity.fit(X11, T11)\n",
    "        self.model_treatment.fit(X12[T12 == 1], y12[T12 == 1])\n",
    "        self.control_model.fit(X12[T12 == 0], y12[T12 == 0])\n",
    "        y_treatment_dr = treatment_model.predict(X2) \\\n",
    "                + (y2 - treatment_model.predict(X2)) / (self.clip(prop_model.predict_proba(X2)[:, 1])) * T2\n",
    "        y_control_dr = control_model.predict(X2) \\\n",
    "                + (y2 - control_model.predict(X2)) / (self.clip(prop_model.predict_proba(X2)[:, 0])) * (1 - T2)\n",
    "\n",
    "        phi_dr = y_treatment_dr - y_control_dr\n",
    "\n",
    "        self.model_cate.fit(X2, phi_dr)\n",
    "        \n",
    "    def cate_pred(self, X):\n",
    "        return self.model_cate.predict(X)\n",
    "    \n",
    "    def propensity_pred(self, X):\n",
    "        return self.clip(self.model_propensity.predict_proba(X))\n",
    "    \n",
    "    def ate(self, X):\n",
    "        return self.model_cate.predict(X).mean()\n",
    "        "
   ]
  },
  {
   "cell_type": "code",
   "execution_count": 255,
=======
   "execution_count": 5,
>>>>>>> a42be7729ed1f877b494e48bdeea599c0d772e40
   "metadata": {
    "ExecuteTime": {
     "end_time": "2021-07-19T14:49:04.896405Z",
     "start_time": "2021-07-19T14:49:01.610710Z"
    }
   },
   "outputs": [],
   "source": [
    "n = 1000\n",
    "d = 10 # d >= 4\n",
    "\n",
    "# DGP parameters\n",
    "m = np.random.uniform(-1, 1, (d, d))\n",
    "cov = m @ m.T\n",
    "d_cont = d//2\n",
    "d_discrete = d - d//2\n",
    "mean_cont = np.random.uniform(-3, 3, d_cont)\n",
    "mean_cont[0] = 0\n",
    "threshold_discrete = np.ones(d_discrete)\n",
    "beta = np.random.uniform(-3, 3, d)\n",
    "gamma = np.random.uniform(-3, 3, d)\n",
    "L, U = 0.1, 0.9\n",
    "\n",
    "def clip(x, L=L, U=U):\n",
    "    return np.minimum(np.maximum(x, L), U)\n",
    "\n",
    "def covariates_model(d):\n",
    "    latent = np.random.multivariate_normal(np.zeros(d), cov)\n",
    "    x_cont = latent[:d_cont] + mean_cont\n",
    "    x_discrete = (latent[d_cont:] > threshold_discrete).astype(int)\n",
    "    return np.concatenate((x_cont, x_discrete))\n",
    "\n",
    "propensity_model = lambda x: clip(scipy.special.expit(x[0] + x[-1])) # Need to bound it below and above\n",
    "control_outcome_model = lambda x: np.dot(x, beta) + (x[0] + 1)*np.random.normal(0, 1, size=1) + x[0]*x[-1] + (0.8 if (x[2]>-0.5 and x[2]<0.5) else 0.2)\n",
    "treatment_effect_model = lambda x: np.dot(x, gamma)\n",
    "# special_test_point = np.array([[1, 0, 0, 0], [0, 0, 0, 0]])\n",
    "# special_test_value = np.array([1, -1])"
   ]
  },
  {
   "cell_type": "code",
<<<<<<< HEAD
   "execution_count": 236,
   "metadata": {},
   "outputs": [],
   "source": [
    "# # FE\n",
    "# B = 10\n",
    "# seeds = np.arange(B) * 1000\n",
    "# for b in range(B):\n",
    "#     data_b = data_generator(n=n, \n",
    "#                             d=d, \n",
    "#                             covariates_model=covariates_model,\n",
    "#                             propensity_model=propensity_model,\n",
    "#                             control_outcome_model=control_outcome_model,\n",
    "#                             treatment_effect_model=treatment_effect_model,\n",
    "#                             seed = seeds[b]\n",
    "#                             )\n",
    "    "
   ]
  },
  {
   "cell_type": "markdown",
   "metadata": {},
   "source": [
    "## CE"
   ]
  },
  {
   "cell_type": "code",
   "execution_count": 256,
=======
   "execution_count": 6,
>>>>>>> a42be7729ed1f877b494e48bdeea599c0d772e40
   "metadata": {
    "ExecuteTime": {
     "end_time": "2021-07-19T14:49:04.924796Z",
     "start_time": "2021-07-19T14:49:04.902301Z"
    }
   },
   "outputs": [],
   "source": [
    "# CE\n",
    "data = data_generator(n=n, \n",
    "                       d=d, \n",
    "                       covariates_model=covariates_model,\n",
    "                       propensity_model=propensity_model,\n",
    "                       control_outcome_model=control_outcome_model,\n",
    "                       treatment_effect_model=treatment_effect_model,\n",
    "                       seed = 1234\n",
    "                       )\n",
    "\n",
    "X = data['X']\n",
    "T = data['T']\n",
    "y = data['Y']\n",
    "X_test = data['X_test']\n",
    "y_test = data['Y_test']\n",
    "\n",
    "P = data['P']\n",
    "Y0 = data['Y0']\n",
    "Y1 = data['Y1']\n",
    "treatment_effect = data['treatment_effect']\n",
    "treatment_effect_test = data['treatment_effect_test']\n",
    "# special_test_point, special_test_value = data['special_test']"
   ]
  },
  {
   "cell_type": "code",
   "execution_count": 257,
   "metadata": {},
   "outputs": [
    {
     "name": "stdout",
     "output_type": "stream",
     "text": [
      "Mean abs of treatment effect is 6.2766683982375255\n",
      "Coefficients of linear treatment effect is [ 1.53925166  1.72882053 -1.8440202   0.47307429  2.23892905 -2.69711036\n",
      "  2.89169073 -2.41842277 -1.30983304 -1.75892483]\n",
      "Min max of propensity score (0.1, 0.9)\n"
     ]
    }
   ],
   "source": [
    "print(f'Mean abs of treatment effect is {np.abs(treatment_effect).mean()}')\n",
    "print(f'Coefficients of linear treatment effect is {gamma}')\n",
    "print(f'Min max of propensity score ({min(P)}, {max(P)})')"
   ]
  },
  {
   "cell_type": "markdown",
   "metadata": {},
   "source": [
    "# T-Learner"
   ]
  },
  {
   "cell_type": "code",
   "execution_count": 270,
   "metadata": {},
   "outputs": [],
   "source": [
    "from interpret.privacy import DPExplainableBoostingClassifier, DPExplainableBoostingRegressor\n",
    "from interpret.glassbox import ExplainableBoostingClassifier, ExplainableBoostingRegressor\n",
    "from lightgbm import LGBMRegressor\n",
    "from diffprivlib.models import LinearRegression as DPLinearRegression\n",
    "from sklearn.linear_model import LinearRegression\n",
    "from sklearn.metrics import mean_absolute_error\n",
    "from econml.metalearners import TLearner"
   ]
  },
  {
   "cell_type": "code",
   "execution_count": 298,
   "metadata": {},
   "outputs": [],
   "source": [
    "epsilon = 4\n",
    "delta = 0.01\n",
    "\n",
    "seed = 1\n",
    "\n",
    "est_TLearner_linear = TLearner(models=LinearRegression())\n",
    "est_TLearner_automl = TLearner(models=regressor(seed))\n",
    "est_TLearner_LGBM = TLearner(models=LGBMRegressor(random_state=seed))\n",
    "est_TLearner_EBM = TLearner(models=ExplainableBoostingRegressor(random_state=seed, outer_bags=20))\n",
    "est_TLearner_DPlinear = TLearner(models=DPLinearRegression(epsilon=epsilon))\n",
    "est_TLearner_DPEBM = TLearner(models=DPExplainableBoostingRegressor(epsilon=epsilon, \n",
    "                                                                      delta=delta, \n",
    "                                                                      outer_bags=1, \n",
    "                                                                      validation_size=0, \n",
    "                                                                      random_state=seed))"
   ]
  },
  {
   "cell_type": "code",
   "execution_count": 306,
   "metadata": {},
   "outputs": [],
   "source": [
    "est_TLearner_linear.fit(y, T, X=X)"
   ]
  },
  {
   "cell_type": "code",
   "execution_count": 293,
   "metadata": {},
   "outputs": [],
   "source": []
  },
  {
   "cell_type": "code",
   "execution_count": 282,
   "metadata": {},
   "outputs": [],
   "source": [
    "# est_Tlearner_DPEBM.fit(y, T, X=X)"
   ]
  },
  {
   "cell_type": "raw",
   "metadata": {},
   "source": [
    "est_Tlearner_DPEBM.ate(X_test)"
   ]
  },
  {
   "cell_type": "code",
   "execution_count": 240,
   "metadata": {
    "ExecuteTime": {
     "end_time": "2021-07-15T16:59:35.337443Z",
     "start_time": "2021-07-15T16:59:34.797117Z"
    }
   },
   "outputs": [
    {
     "name": "stderr",
     "output_type": "stream",
     "text": [
      "/home/fniu/code/interpret/python/interpret-core/interpret/glassbox/ebm/ebm.py:837: UserWarning:\n",
      "\n",
      "Possible privacy violation: assuming min/max values per feature/target are public info.Pass a privacy schema with known public ranges to avoid this warning.\n",
      "\n"
     ]
    },
    {
     "data": {
      "text/plain": [
       "DPExplainableBoostingRegressor(epsilon=20,\n",
       "                               feature_names=['feature_0001', 'feature_0002',\n",
       "                                              'feature_0003', 'feature_0004',\n",
       "                                              'feature_0005', 'feature_0006',\n",
       "                                              'feature_0007', 'feature_0008',\n",
       "                                              'feature_0009', 'feature_0010'],\n",
       "                               feature_types=['continuous', 'continuous',\n",
       "                                              'continuous', 'continuous',\n",
       "                                              'continuous', 'categorical',\n",
       "                                              'categorical', 'categorical',\n",
       "                                              'categorical', 'categorical'],\n",
       "                               privacy_schema={0: (-5.421411103398453,\n",
       "                                                   3.910954932898996),\n",
       "                                               1: (-5.763914440618323,\n",
       "                                                   8.042989540272771),\n",
       "                                               2: (-6.091621304855985,\n",
       "                                                   4.342990283486911),\n",
       "                                               3: (-6.2909735002088425,\n",
       "                                                   6.886671769388658),\n",
       "                                               4: (-6.826856553449835,\n",
       "                                                   10.479757438133854),\n",
       "                                               5: (0.0, 1.0), 6: (0.0, 1.0),\n",
       "                                               7: (0.0, 1.0), 8: (0.0, 1.0),\n",
       "                                               9: (0.0, 1.0),\n",
       "                                               'target': (-26.640353172017345,\n",
       "                                                          17.896634880826156)})"
      ]
     },
     "execution_count": 240,
     "metadata": {},
     "output_type": "execute_result"
    }
   ],
   "source": [
    "from interpret.privacy import DPExplainableBoostingClassifier, DPExplainableBoostingRegressor\n",
    "from interpret.glassbox import ExplainableBoostingClassifier, ExplainableBoostingRegressor\n",
    "from lightgbm import LGBMRegressor\n",
    "from diffprivlib.models import LogisticRegression, LinearRegression\n",
    "from sklearn.metrics import mean_absolute_error\n",
    "from econml.metalearners import TLearner\n",
    "\n",
    "\n",
    "def tlearner_DPEB(X, y, T, epsilon, delta, seed=1):\n",
    "    random.seed(seed)\n",
    "    numpy.random.seed(seed)\n",
    "    \n",
    "    treatment_model = DPExplainableBoostingRegressor(epsilon=epsilon, delta=delta, outer_bags=1, validation_size=0)\n",
    "    treatment_model.fit(X[T == 1], y[T == 1])\n",
    "\n",
    "    control_model = DPExplainableBoostingRegressor(epsilon=epsilon, delta=delta, outer_bags=1, validation_size=0)\n",
    "    control_model.fit(X[T == 0], y[T == 0])\n",
    "    \n",
    "    return treatment_model, control_model\n",
    "\n",
    "\n",
    "def tlearner_lGBM(X, y, T, seed=1):\n",
    "    random.seed(seed)\n",
    "    numpy.random.seed(seed)\n",
    "    \n",
    "    treatment_model = LGBMRegressor()\n",
    "    treatment_model.fit(X[T == 1], y[T == 1])\n",
    "\n",
    "    control_model = LGBMRegressor()\n",
    "    control_model.fit(X[T == 0], y[T == 0])\n",
    "    \n",
    "    return treatment_model, control_model\n",
    "\n",
    "\n",
    "def tlearner_lGBM(X, y, T, seed=1):\n",
    "    random.seed(seed)\n",
    "    numpy.random.seed(seed)\n",
    "    \n",
    "    treatment_model = LGBMRegressor()\n",
    "    treatment_model.fit(X[T == 1], y[T == 1])\n",
    "\n",
    "    control_model = LGBMRegressor()\n",
    "    control_model.fit(X[T == 0], y[T == 0])\n",
    "    \n",
    "    return treatment_model, control_model\n",
    "\n",
    "\n",
    "\n",
    "\n",
    "epsilon = 4\n",
    "delta = 1e-5\n",
    "\n",
    "prop_model = LogisticRegression(epsilon=epsilon)\n",
    "prop_model.fit(X11, T11)\n",
    "\n",
    "treatment_model = LinearRegression(epsilon=epsilon)\n",
    "treatment_model.fit(X12[T12 == 1], y12[T12 == 1])\n",
    "\n",
    "control_model = LinearRegression(epsilon=epsilon)\n",
    "control_model.fit(X12[T12 == 0], y12[T12 == 0])\n",
    "\n",
    "\n",
    "# treatment_model = LGBMRegressor()\n",
    "# treatment_model.fit(X[T == 1], y[T == 1])\n",
    "\n",
<<<<<<< HEAD
    "# control_model = LGBMRegressor()\n",
    "# control_model.fit(X[T == 0], y[T == 0])\n",
    "\n",
    "treatment_model = DPExplainableBoostingRegressor(epsilon=epsilon, delta=delta, outer_bags=1, validation_size=0)\n",
    "treatment_model.fit(X[T == 1], y[T == 1])\n",
    "\n",
    "control_model = DPExplainableBoostingRegressor(epsilon=epsilon, delta=delta, outer_bags=1, validation_size=0)\n",
    "control_model.fit(X[T == 0], y[T == 0])"
=======
    "# control_model = DPExplainableBoostingRegressor(epsilon=epsilon, delta=delta, outer_bags=1, validation_size=0)\n",
    "# control_model.fit(X[T == 0], y[T == 0])\n",
    "\n",
    "def t_learner(treatment_model, control_model, X, T, y):\n",
    "    _ = treatment_model.fit(X[T == 1], y[T == 1])\n",
    "    _ = control_model.fit(X[T == 0], y[T == 0])\n",
    "    \n",
    "    return treatment_model, control_model"
>>>>>>> a42be7729ed1f877b494e48bdeea599c0d772e40
   ]
  },
  {
   "cell_type": "code",
   "execution_count": 241,
   "metadata": {
    "ExecuteTime": {
     "end_time": "2021-07-15T16:59:35.979964Z",
     "start_time": "2021-07-15T16:59:35.507300Z"
    }
   },
   "outputs": [
    {
     "data": {
      "image/png": "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\n",
      "text/latex": [
       "$\\displaystyle 1.33424500875752$"
      ],
      "text/plain": [
       "1.3342450087575237"
      ]
     },
     "execution_count": 241,
     "metadata": {},
     "output_type": "execute_result"
    }
   ],
   "source": [
    "mean_absolute_error(treatment_effect, treatment_model.predict(X) - control_model.predict(X))"
   ]
  },
  {
   "cell_type": "markdown",
   "metadata": {},
   "source": [
    "# Doubly Robust Learner"
   ]
  },
  {
   "cell_type": "code",
   "execution_count": 242,
   "metadata": {
    "ExecuteTime": {
     "end_time": "2021-07-15T17:08:28.413683Z",
     "start_time": "2021-07-15T17:08:28.391665Z"
    }
   },
   "outputs": [],
   "source": []
  },
  {
   "cell_type": "code",
<<<<<<< HEAD
   "execution_count": 243,
=======
   "execution_count": 9,
   "metadata": {
    "ExecuteTime": {
     "end_time": "2021-07-19T14:49:36.376242Z",
     "start_time": "2021-07-19T14:49:36.358019Z"
    }
   },
   "outputs": [],
   "source": [
    "from sklearn.model_selection import train_test_split\n",
    "\n",
    "def doubly_robust_learner(propensity_model, treatment_model, control_model, cate_model,\n",
    "                          X, T, y, lambda_11, lambda_12, lambda_2, random_state=42):\n",
    "    \n",
    "    assert(lambda_11 + lambda_12 + lambda_2 == 1)\n",
    "\n",
    "    X1, X2, T1, T2, y1, y2 = train_test_split(X, T, y, test_size=lambda_2, random_state=random_state, stratify=T)\n",
    "    X11, X12, T11, T12, y11, y12 = train_test_split(X1, T1, y1, test_size=lambda_12 / (lambda_11 + lambda_12),\n",
    "                                                    random_state=random_state, stratify=T1)\n",
    "    \n",
    "    _ = propensity_model.fit(X11, T11)\n",
    "    _ = treatment_model.fit(X12[T12 == 1], y12[T12 == 1])\n",
    "    _ = control_model.fit(X12[T12 == 0], y12[T12 == 0])\n",
    "    \n",
    "    y_treatment_dr = treatment_model.predict(X2) + (y2 - treatment_model.predict(X2)) / (prop_model.predict_proba(X2)[:, 1]) * T2\n",
    "    y_control_dr = control_model.predict(X2) + (y2 - control_model.predict(X2)) / (prop_model.predict_proba(X2)[:, 1]) * (1 - T2)\n",
    "\n",
    "    phi_dr = y_treatment_dr - y_control_dr\n",
    "\n",
    "    _ = cate_model.fit(X2, phi_dr)\n",
    "    \n",
    "    return propensity_model, treatment_model, control_model, cate_model\n",
    "    "
   ]
  },
  {
   "cell_type": "code",
   "execution_count": 11,
   "metadata": {
    "ExecuteTime": {
     "end_time": "2021-07-19T14:50:39.918222Z",
     "start_time": "2021-07-19T14:50:29.615359Z"
    }
   },
   "outputs": [
    {
     "name": "stderr",
     "output_type": "stream",
     "text": [
      "Possible privacy violation: assuming min/max values per feature/target are public info.Pass a privacy schema with known public ranges to avoid this warning.\n"
     ]
    },
    {
     "data": {
      "text/plain": [
       "(DPExplainableBoostingClassifier(epsilon=4,\n",
       "                                 feature_names=['feature_0001', 'feature_0002',\n",
       "                                                'feature_0003', 'feature_0004'],\n",
       "                                 feature_types=['categorical', 'categorical',\n",
       "                                                'categorical', 'categorical'],\n",
       "                                 privacy_schema={0: (0, 1), 1: (0, 1), 2: (0, 1),\n",
       "                                                 3: (0, 1), 'target': (0, 1)}),\n",
       " DPExplainableBoostingRegressor(epsilon=4,\n",
       "                                feature_names=['feature_0001', 'feature_0002',\n",
       "                                               'feature_0003', 'feature_0004'],\n",
       "                                feature_types=['categorical', 'categorical',\n",
       "                                               'categorical', 'categorical'],\n",
       "                                privacy_schema={0: (0, 1), 1: (0, 1), 2: (0, 1),\n",
       "                                                3: (0, 1),\n",
       "                                                'target': (-5.177168471475951,\n",
       "                                                           9.425437204508771)}),\n",
       " DPExplainableBoostingRegressor(epsilon=4,\n",
       "                                feature_names=['feature_0001', 'feature_0002',\n",
       "                                               'feature_0003', 'feature_0004'],\n",
       "                                feature_types=['categorical', 'categorical',\n",
       "                                               'categorical', 'categorical'],\n",
       "                                privacy_schema={0: (0, 1), 1: (0, 1), 2: (0, 1),\n",
       "                                                3: (0, 1),\n",
       "                                                'target': (-5.621694085056832,\n",
       "                                                           6.379919857410205)}),\n",
       " DPExplainableBoostingRegressor(epsilon=4,\n",
       "                                feature_names=['feature_0001', 'feature_0002',\n",
       "                                               'feature_0003', 'feature_0004'],\n",
       "                                feature_types=['categorical', 'categorical',\n",
       "                                               'categorical', 'categorical'],\n",
       "                                privacy_schema={0: (0, 1), 1: (0, 1), 2: (0, 1),\n",
       "                                                3: (0, 1),\n",
       "                                                'target': (-9.386469672883948,\n",
       "                                                           13.061916848408702)}))"
      ]
     },
     "execution_count": 11,
     "metadata": {},
     "output_type": "execute_result"
    }
   ],
   "source": [
    "from interpret.glassbox import DPExplainableBoostingClassifier, DPExplainableBoostingRegressor\n",
    "\n",
    "epsilon = 4\n",
    "delta = 1e-5\n",
    "\n",
    "prop_model = DPExplainableBoostingClassifier(epsilon=epsilon, delta=delta, outer_bags=1, validation_size=0)\n",
    "treatment_model = DPExplainableBoostingRegressor(epsilon=epsilon, delta=delta, outer_bags=1, validation_size=0)\n",
    "control_model = DPExplainableBoostingRegressor(epsilon=epsilon, delta=delta, outer_bags=1, validation_size=0)\n",
    "cate_model = DPExplainableBoostingRegressor(epsilon=epsilon, delta=delta, outer_bags=1, validation_size=0)\n",
    "\n",
    "doubly_robust_learner(prop_model, treatment_model, control_model, cate_model, X, T, y, 0.25, 0.25, 0.5)"
   ]
  },
  {
   "cell_type": "code",
   "execution_count": 12,
   "metadata": {
    "ExecuteTime": {
     "end_time": "2021-07-19T14:51:44.529458Z",
     "start_time": "2021-07-19T14:51:43.499917Z"
    }
   },
   "outputs": [
    {
     "name": "stderr",
     "output_type": "stream",
     "text": [
      "Data norm has not been specified and will be calculated on the data provided.  This will result in additional privacy leakage. To ensure differential privacy and no additional privacy leakage, specify `data_norm` at initialisation.\n",
      "Bounds parameters haven't been specified, so falling back to determining bounds from the data.\n",
      "This will result in additional privacy leakage. To ensure differential privacy with no additional privacy loss, specify `bounds_X` and `bounds_y`.\n",
      "Bounds parameters haven't been specified, so falling back to determining bounds from the data.\n",
      "This will result in additional privacy leakage. To ensure differential privacy with no additional privacy loss, specify `bounds_X` and `bounds_y`.\n",
      "Bounds parameters haven't been specified, so falling back to determining bounds from the data.\n",
      "This will result in additional privacy leakage. To ensure differential privacy with no additional privacy loss, specify `bounds_X` and `bounds_y`.\n"
     ]
    },
    {
     "data": {
      "text/plain": [
       "(LogisticRegression(accountant=BudgetAccountant(spent_budget=[(4, 0), (4, 0), (4, 0), (4, 0)]),\n",
       "                    data_norm=2.0, epsilon=4),\n",
       " LinearRegression(accountant=BudgetAccountant(spent_budget=[(4, 0), (4, 0), (4, 0), (4, 0)]),\n",
       "                  bounds_X=(array([0., 0., 0., 0.]), array([1., 1., 1., 1.])),\n",
       "                  bounds_y=(array([-5.17716847]), array([9.4254372])),\n",
       "                  epsilon=4),\n",
       " LinearRegression(accountant=BudgetAccountant(spent_budget=[(4, 0), (4, 0), (4, 0), (4, 0)]),\n",
       "                  bounds_X=(array([0., 0., 0., 0.]), array([1., 1., 1., 1.])),\n",
       "                  bounds_y=(array([-5.62169409]), array([6.37991986])),\n",
       "                  epsilon=4),\n",
       " LinearRegression(accountant=BudgetAccountant(spent_budget=[(4, 0), (4, 0), (4, 0), (4, 0)]),\n",
       "                  bounds_X=(array([0., 0., 0., 0.]), array([1., 1., 1., 1.])),\n",
       "                  bounds_y=(array([-8.45834836]), array([12.1228101])),\n",
       "                  epsilon=4))"
      ]
     },
     "execution_count": 12,
     "metadata": {},
     "output_type": "execute_result"
    }
   ],
   "source": [
    "from diffprivlib.models import LogisticRegression, LinearRegression\n",
    "\n",
    "epsilon = 4\n",
    "delta = 1e-5\n",
    "\n",
    "prop_model = LogisticRegression(epsilon=epsilon)\n",
    "treatment_model = LinearRegression(epsilon=epsilon)\n",
    "control_model = LinearRegression(epsilon=epsilon)\n",
    "cate_model = LinearRegression(epsilon=epsilon)\n",
    "\n",
    "doubly_robust_learner(prop_model, treatment_model, control_model, cate_model, X, T, y, 0.25, 0.25, 0.5)"
   ]
  },
  {
   "cell_type": "code",
   "execution_count": 79,
>>>>>>> a42be7729ed1f877b494e48bdeea599c0d772e40
   "metadata": {
    "ExecuteTime": {
     "end_time": "2021-07-15T17:08:37.958361Z",
     "start_time": "2021-07-15T17:08:29.383472Z"
    },
    "scrolled": true
   },
   "outputs": [
    {
     "name": "stderr",
     "output_type": "stream",
     "text": [
      "/home/fniu/code/interpret/python/interpret-core/interpret/glassbox/ebm/ebm.py:837: UserWarning:\n",
      "\n",
      "Possible privacy violation: assuming min/max values per feature/target are public info.Pass a privacy schema with known public ranges to avoid this warning.\n",
      "\n"
     ]
    },
    {
     "data": {
      "text/plain": [
       "DPExplainableBoostingRegressor(epsilon=20,\n",
       "                               feature_names=['feature_0001', 'feature_0002',\n",
       "                                              'feature_0003', 'feature_0004',\n",
       "                                              'feature_0005', 'feature_0006',\n",
       "                                              'feature_0007', 'feature_0008',\n",
       "                                              'feature_0009', 'feature_0010'],\n",
       "                               feature_types=['continuous', 'continuous',\n",
       "                                              'continuous', 'continuous',\n",
       "                                              'continuous', 'categorical',\n",
       "                                              'categorical', 'categorical',\n",
       "                                              'categorical', 'categorical'],\n",
       "                               privacy_schema={0: (-5.421411103398453,\n",
       "                                                   3.910954932898996),\n",
       "                                               1: (-5.763914440618323,\n",
       "                                                   7.091027834724488),\n",
       "                                               2: (-6.091621304855985,\n",
       "                                                   4.186876202245087),\n",
       "                                               3: (-6.2909735002088425,\n",
       "                                                   6.886671769388658),\n",
       "                                               4: (-3.4732886999320494,\n",
       "                                                   10.215720603510164),\n",
       "                                               5: (0.0, 1.0), 6: (0.0, 1.0),\n",
       "                                               7: (0.0, 1.0), 8: (0.0, 1.0),\n",
       "                                               9: (0.0, 1.0),\n",
       "                                               'target': (-25.28599859459084,\n",
       "                                                          13.084273034034851)})"
      ]
     },
     "execution_count": 243,
     "metadata": {},
     "output_type": "execute_result"
    }
   ],
   "source": [
    "epsilon = 20\n",
    "delta = 1e-5\n",
    "\n",
    "prop_model = DPExplainableBoostingClassifier(epsilon=epsilon, delta=delta, outer_bags=1, validation_size=0)\n",
    "prop_model.fit(X11, T11)\n",
    "\n",
    "treatment_model = DPExplainableBoostingRegressor(epsilon=epsilon, delta=delta, outer_bags=1, validation_size=0)\n",
    "treatment_model.fit(X12[T12 == 1], y12[T12 == 1])\n",
    "\n",
    "control_model = DPExplainableBoostingRegressor(epsilon=epsilon, delta=delta, outer_bags=1, validation_size=0)\n",
    "control_model.fit(X12[T12 == 0], y12[T12 == 0])"
   ]
  },
  {
   "cell_type": "code",
   "execution_count": 244,
   "metadata": {
    "ExecuteTime": {
     "end_time": "2021-07-15T17:08:47.341404Z",
     "start_time": "2021-07-15T17:08:43.144510Z"
    }
   },
   "outputs": [
    {
     "data": {
      "text/plain": [
       "DPExplainableBoostingRegressor(epsilon=20,\n",
       "                               feature_names=['feature_0001', 'feature_0002',\n",
       "                                              'feature_0003', 'feature_0004',\n",
       "                                              'feature_0005', 'feature_0006',\n",
       "                                              'feature_0007', 'feature_0008',\n",
       "                                              'feature_0009', 'feature_0010'],\n",
       "                               feature_types=['continuous', 'continuous',\n",
       "                                              'continuous', 'continuous',\n",
       "                                              'continuous', 'categorical',\n",
       "                                              'categorical', 'categorical',\n",
       "                                              'categorical', 'categorical'],\n",
       "                               privacy_schema={0: (-5.021046715141751,\n",
       "                                                   5.792753569398708),\n",
       "                                               1: (-5.176229435314995,\n",
       "                                                   6.883875736032052),\n",
       "                                               2: (-5.280076652081875,\n",
       "                                                   5.3755160268346245),\n",
       "                                               3: (-6.235548402397673,\n",
       "                                                   5.8992263093218),\n",
       "                                               4: (-6.826856553449835,\n",
       "                                                   12.842944429240491),\n",
       "                                               5: (0.0, 1.0), 6: (0.0, 1.0),\n",
       "                                               7: (0.0, 1.0), 8: (0.0, 1.0),\n",
       "                                               9: (0.0, 1.0),\n",
       "                                               'target': (-78.83133583800743,\n",
       "                                                          61.43418072042229)})"
      ]
     },
     "execution_count": 244,
     "metadata": {},
     "output_type": "execute_result"
    }
   ],
   "source": [
    "# Build CATE model\n",
    "\n",
    "y_treatment_dr = treatment_model.predict(X2) + (y2 - treatment_model.predict(X2)) / (clip(prop_model.predict_proba(X2)[:, 1])) * T2\n",
    "y_control_dr = control_model.predict(X2) + (y2 - control_model.predict(X2)) / (clip(prop_model.predict_proba(X2)[:, 0])) * (1 - T2)\n",
    "\n",
    "# y_treatment_dr = treatment_model.predict(X2) + (y2 - treatment_model.predict(X2)) / P2 * T2\n",
    "# y_control_dr = control_model.predict(X2) + (y2 - control_model.predict(X2)) / (1-P2) * (1 - T2)\n",
    "\n",
    "\n",
    "phi_dr = y_treatment_dr - y_control_dr\n",
    "\n",
    "cate_model = DPExplainableBoostingRegressor(epsilon=epsilon, delta=delta, outer_bags=1, validation_size=0)\n",
    "cate_model.fit(X2, phi_dr)"
   ]
  },
  {
   "cell_type": "code",
   "execution_count": 245,
   "metadata": {
    "ExecuteTime": {
     "end_time": "2021-07-15T17:08:49.350019Z",
     "start_time": "2021-07-15T17:08:48.851683Z"
    }
   },
   "outputs": [
    {
     "data": {
      "image/png": "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\n",
      "text/latex": [
       "$\\displaystyle 1.17743670094079$"
      ],
      "text/plain": [
       "1.1774367009407898"
      ]
     },
     "execution_count": 245,
     "metadata": {},
     "output_type": "execute_result"
    }
   ],
   "source": [
    "from sklearn.metrics import mean_absolute_error\n",
    "\n",
    "mean_absolute_error(P, clip(prop_model.predict_proba(X)[:, 1]))\n",
    "mean_absolute_error(treatment_effect, cate_model.predict(X))"
   ]
  },
  {
   "cell_type": "code",
   "execution_count": 246,
   "metadata": {},
   "outputs": [
    {
     "data": {
      "text/html": [
       "<!-- http://127.0.0.1:7001/140218631195600/ -->\n",
       "<iframe src=\"http://127.0.0.1:7001/140218631195600/\" width=100% height=800 frameBorder=\"0\"></iframe>"
      ]
     },
     "metadata": {},
     "output_type": "display_data"
    }
   ],
   "source": [
    "show(cate_model.explain_global())"
   ]
  },
  {
   "cell_type": "markdown",
   "metadata": {},
   "source": [
    "## Doubly Robust Linear Model"
   ]
  },
  {
   "cell_type": "code",
   "execution_count": 267,
   "metadata": {},
   "outputs": [],
   "source": [
    "LinearRegression?"
   ]
  },
  {
   "cell_type": "code",
   "execution_count": 266,
   "metadata": {
    "ExecuteTime": {
     "end_time": "2021-07-15T17:09:09.222454Z",
     "start_time": "2021-07-15T17:09:08.713496Z"
    }
   },
   "outputs": [
    {
     "name": "stderr",
     "output_type": "stream",
     "text": [
      "/home/fniu/miniconda3/envs/interpret/lib/python3.7/site-packages/diffprivlib/models/logistic_regression.py:223: PrivacyLeakWarning:\n",
      "\n",
      "Data norm has not been specified and will be calculated on the data provided.  This will result in additional privacy leakage. To ensure differential privacy and no additional privacy leakage, specify `data_norm` at initialisation.\n",
      "\n",
      "/home/fniu/miniconda3/envs/interpret/lib/python3.7/site-packages/diffprivlib/models/linear_regression.py:258: PrivacyLeakWarning:\n",
      "\n",
      "Bounds parameters haven't been specified, so falling back to determining bounds from the data.\n",
      "This will result in additional privacy leakage. To ensure differential privacy with no additional privacy loss, specify `bounds_X` and `bounds_y`.\n",
      "\n",
      "/home/fniu/miniconda3/envs/interpret/lib/python3.7/site-packages/diffprivlib/models/linear_regression.py:258: PrivacyLeakWarning:\n",
      "\n",
      "Bounds parameters haven't been specified, so falling back to determining bounds from the data.\n",
      "This will result in additional privacy leakage. To ensure differential privacy with no additional privacy loss, specify `bounds_X` and `bounds_y`.\n",
      "\n"
     ]
    },
    {
     "data": {
      "text/plain": [
       "LinearRegression(accountant=BudgetAccountant(spent_budget=[(4, 0), (4, 0), (4, 0)]),\n",
       "                 bounds_X=(array([-5.4214111 , -5.76391444, -6.0916213 , -6.2909735 , -3.4732887 ,\n",
       "        0.        ,  0.        ,  0.        ,  0.        ,  0.        ]),\n",
       "                           array([ 3.91095493,  7.09102783,  4.1868762 ,  6.88667177, 10.2157206 ,\n",
       "        1.        ,  1.        ,  1.        ,  1.        ,  1.        ])),\n",
       "                 bounds_y=(array([-25.28599859]), array([13.08427303])),\n",
       "                 epsilon=4)"
      ]
     },
     "execution_count": 266,
     "metadata": {},
     "output_type": "execute_result"
    }
   ],
   "source": [
    "from diffprivlib.models import LogisticRegression, LinearRegression\n",
    "\n",
    "epsilon = 4\n",
    "delta = 1e-5\n",
    "\n",
    "prop_model = LogisticRegression(epsilon=epsilon)\n",
    "prop_model.fit(X11, T11)\n",
    "\n",
    "treatment_model = LinearRegression(epsilon=epsilon)\n",
    "treatment_model.fit(X12[T12 == 1], y12[T12 == 1])\n",
    "\n",
    "control_model = LinearRegression(epsilon=epsilon)\n",
    "control_model.fit(X12[T12 == 0], y12[T12 == 0])"
   ]
  },
  {
   "cell_type": "code",
   "execution_count": null,
   "metadata": {
    "ExecuteTime": {
     "end_time": "2021-07-15T17:09:44.216417Z",
     "start_time": "2021-07-15T17:09:44.044390Z"
    }
   },
   "outputs": [],
   "source": [
    "# Build CATE model\n",
    "\n",
    "y_treatment_dr = treatment_model.predict(X2) + (y2 - treatment_model.predict(X2)) / (prop_model.predict_proba(X2)[:, 1]) * T2\n",
    "y_control_dr = control_model.predict(X2) + (y2 - control_model.predict(X2)) / (prop_model.predict_proba(X2)[:, 1]) * (1 - T2)\n",
    "\n",
    "phi_dr = y_treatment_dr - y_control_dr\n",
    "\n",
    "cate_model = LinearRegression(epsilon=epsilon)\n",
    "cate_model.fit(X2, phi_dr)"
   ]
  },
  {
   "cell_type": "code",
   "execution_count": null,
   "metadata": {
    "ExecuteTime": {
     "end_time": "2021-07-15T17:09:55.172215Z",
     "start_time": "2021-07-15T17:09:54.724860Z"
    }
   },
   "outputs": [],
   "source": [
    "from sklearn.metrics import mean_absolute_error\n",
    "\n",
    "mean_absolute_error(treatment_effect, cate_model.predict(X))"
   ]
  },
  {
   "cell_type": "code",
   "execution_count": null,
   "metadata": {},
   "outputs": [],
   "source": []
  }
 ],
 "metadata": {
  "kernelspec": {
   "display_name": "Python 3",
   "language": "python",
   "name": "python3"
  },
  "language_info": {
   "codemirror_mode": {
    "name": "ipython",
    "version": 3
   },
   "file_extension": ".py",
   "mimetype": "text/x-python",
   "name": "python",
   "nbconvert_exporter": "python",
   "pygments_lexer": "ipython3",
   "version": "3.7.10"
  }
 },
 "nbformat": 4,
 "nbformat_minor": 4
}
