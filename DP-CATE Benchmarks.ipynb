{
 "cells": [
  {
   "cell_type": "code",
   "execution_count": 3,
   "metadata": {
    "ExecuteTime": {
     "end_time": "2021-07-19T14:57:09.242014Z",
     "start_time": "2021-07-19T14:57:09.236870Z"
    }
   },
   "outputs": [],
   "source": [
    "import numpy as np\n",
    "import scipy\n",
    "from CATE_utils import data_generator, regressor, clf, generate_EBM_CATE_learners, generate_CATE_learners, run_and_report_mse"
   ]
  },
  {
   "cell_type": "code",
   "execution_count": 1,
   "metadata": {
    "ExecuteTime": {
     "end_time": "2021-07-19T14:56:40.182875Z",
     "start_time": "2021-07-19T14:56:38.838088Z"
    }
   },
   "outputs": [],
   "source": [
    "from sklearn.model_selection import train_test_split\n",
    "\n",
    "def doubly_robust_learner(propensity_model, treatment_model, control_model, cate_model,\n",
    "                          X, T, y, lambda_11, lambda_12, lambda_2, random_state=42):\n",
    "    \n",
    "    assert(lambda_11 + lambda_12 + lambda_2 == 1)\n",
    "\n",
    "    X1, X2, T1, T2, y1, y2 = train_test_split(X, T, y, test_size=lambda_2, random_state=random_state, stratify=T)\n",
    "    X11, X12, T11, T12, y11, y12 = train_test_split(X1, T1, y1, test_size=lambda_12 / (lambda_11 + lambda_12),\n",
    "                                                    random_state=random_state, stratify=T1)\n",
    "    \n",
    "    _ = propensity_model.fit(X11, T11)\n",
    "    _ = treatment_model.fit(X12[T12 == 1], y12[T12 == 1])\n",
    "    _ = control_model.fit(X12[T12 == 0], y12[T12 == 0])\n",
    "    \n",
    "    y_treatment_dr = treatment_model.predict(X2) + (y2 - treatment_model.predict(X2)) / (prop_model.predict_proba(X2)[:, 1]) * T2\n",
    "    y_control_dr = control_model.predict(X2) + (y2 - control_model.predict(X2)) / (prop_model.predict_proba(X2)[:, 1]) * (1 - T2)\n",
    "\n",
    "    phi_dr = y_treatment_dr - y_control_dr\n",
    "\n",
    "    _ = cate_model.fit(X2, phi_dr)\n",
    "    \n",
    "    return propensity_model, treatment_model, control_model, cate_model"
   ]
  },
  {
   "cell_type": "code",
   "execution_count": null,
   "metadata": {},
   "outputs": [],
   "source": [
    "# Experiment Parameters\n",
    "\n",
    "DATA_SIZES = [100, 1_000]\n",
    "EPSILON = [1, 2]\n",
    "SEED = 42\n",
    "N_EXPERIMENTS = 2\n",
    "\n",
    "METRICS = ['avg_cate_mse', 'std_cate_mse', 'avg_ate_abs', 'std_ate_abs']\n",
    "\n",
    "# Output Frame\n",
    "\n",
    "results = pd.DataFrame(columns=[\"dataset\", \"learner\",  \"epsilon\", \"stage\", \"eval_data\", \"metric_name\", \"metric_value\"])\n",
    "\n",
    "# ['synthetic', 'DR_ebm', 'propensity', 'train', 'inf', 'avg_mean_squared_error', '0.25']\n",
    "# ['synthetic', 'DR_ebm', 'propensity', 'train', '1', 'avg_mean_squared_error', '0.25']\n",
    "# ['synthetic', 'DR_ebm', 'propensity', 'train', '1', 'std_mean_squared_error', '0.05']\n",
    "# ['synthetic', 'DR_ebm', 'propensity', 'test', '1', 'mean_squared_error', '0.55']\n",
    "# ['synthetic', 'DR_ebm', 'propensity', 'train', '2', 'mean_squared_error', '0.2']\n",
    "# ['synthetic', 'DR_ebm', 'propensity', 'test', '2', 'mean_squared_error', '0.51']\n",
    "\n",
    "\n",
    "# Things to log:\n",
    "# - propensity model on train set\n",
    "# - full process/CATE model on test set\n",
    "# - treatment/control effect models on test set\n",
    "# - propensity model on test set\n",
    "# - full process/CATE model on test set\n",
    "# - treatment/control effect models on test set"
   ]
  },
  {
   "cell_type": "code",
   "execution_count": 4,
   "metadata": {
    "ExecuteTime": {
     "end_time": "2021-07-19T14:57:13.125169Z",
     "start_time": "2021-07-19T14:57:10.707786Z"
    }
   },
   "outputs": [],
   "source": [
    "n = 10000\n",
    "d = 4\n",
    "covariates_model = lambda d: np.random.binomial(1, .5, size=d)\n",
    "propensity_model = lambda x: scipy.special.expit(x[0])\n",
    "control_outcome_model = lambda x: x[0] + (x[0] + 1)*np.random.normal(0, 1, size=1)\n",
    "treatment_effect_model = lambda x: -1 + 2 * x[0]\n",
    "special_test_point = np.array([[1, 0, 0, 0], [0, 0, 0, 0]])\n",
    "special_test_value = np.array([1, -1])\n",
    "\n",
    "\n",
    "data1 = data_generator(n=n, \n",
    "                      d=d, \n",
    "                      covariates_model=covariates_model,\n",
    "                      propensity_model=propensity_model,\n",
    "                      control_outcome_model=control_outcome_model,\n",
    "                      treatment_effect_model=treatment_effect_model,\n",
    "                      special_test_point=special_test_point,\n",
    "                      special_test_value=special_test_value,\n",
    "                      seed = 1234\n",
    "                      )"
   ]
  },
  {
   "cell_type": "code",
   "execution_count": null,
   "metadata": {},
   "outputs": [],
   "source": []
  }
 ],
 "metadata": {
  "kernelspec": {
   "display_name": "Python [conda env:interpret-dev] *",
   "language": "python",
   "name": "conda-env-interpret-dev-py"
  },
  "language_info": {
   "codemirror_mode": {
    "name": "ipython",
    "version": 3
   },
   "file_extension": ".py",
   "mimetype": "text/x-python",
   "name": "python",
   "nbconvert_exporter": "python",
   "pygments_lexer": "ipython3",
   "version": "3.7.7"
  }
 },
 "nbformat": 4,
 "nbformat_minor": 4
}
